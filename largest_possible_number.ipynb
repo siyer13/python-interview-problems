{
 "cells": [
  {
   "cell_type": "markdown",
   "metadata": {},
   "source": [
    "**Problem:**\n",
    "\n",
    "Given a list of numbers, find the largest number that can be made out of it\n",
    "\n",
    "Eg. if given list is \n",
    " * [3, 4, 7] output should be 743\n",
    " * [30, 45, 9] output should b 95430 "
   ]
  },
  {
   "cell_type": "code",
   "execution_count": 4,
   "metadata": {},
   "outputs": [
    {
     "name": "stdout",
     "output_type": "stream",
     "text": [
      "7543\n",
      "9985430\n"
     ]
    }
   ],
   "source": [
    "def largest_possible_number(num_list):\n",
    "    numbers = [n for n in num_list for n in str(n)]\n",
    "    sorted_numbers = sorted(numbers, reverse=True)\n",
    "    return ''.join(sorted_numbers)\n",
    "\n",
    "large_number = largest_possible_number([3,45,7])\n",
    "print(large_number)\n",
    "large_number = largest_possible_number([30,45, 9, 98])\n",
    "print(large_number)"
   ]
  },
  {
   "cell_type": "code",
   "execution_count": null,
   "metadata": {},
   "outputs": [],
   "source": []
  }
 ],
 "metadata": {
  "kernelspec": {
   "display_name": "Python 3",
   "language": "python",
   "name": "python3"
  },
  "language_info": {
   "codemirror_mode": {
    "name": "ipython",
    "version": 3
   },
   "file_extension": ".py",
   "mimetype": "text/x-python",
   "name": "python",
   "nbconvert_exporter": "python",
   "pygments_lexer": "ipython3",
   "version": "3.8.5"
  }
 },
 "nbformat": 4,
 "nbformat_minor": 4
}
