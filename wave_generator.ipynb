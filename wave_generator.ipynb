{
 "cells": [
  {
   "cell_type": "markdown",
   "metadata": {},
   "source": [
    "**Problem:**\n",
    "\n",
    "#### Given a list of numbers, arrange the numbers in a way that they form  a sine wave\n",
    "\n",
    "Eg: \n",
    "\n",
    "Input: [10, 15, 2, 6, 90, 34]\n",
    "\n",
    "Output: [2, 90, 6, 34, 10, 15]\n"
   ]
  },
  {
   "cell_type": "code",
   "execution_count": 12,
   "metadata": {},
   "outputs": [
    {
     "name": "stdout",
     "output_type": "stream",
     "text": [
      "G List:  [10, 15, 2, 6, 90, 34, 19]\n",
      "S List:  [2, 6, 10, 15, 19, 34, 90]\n",
      "W List:  [2, 90, 6, 34, 10, 19, 15]\n"
     ]
    }
   ],
   "source": [
    "def sine_wave_generator(num_list):\n",
    "    print('G List: ', num_list)\n",
    "    num_list.sort()\n",
    "    print('S List: ', num_list)\n",
    "    wave_list = []\n",
    "    list_len = len(num_list)\n",
    "    for i in range(int(list_len/2)):\n",
    "        wave_list.append(num_list[i])\n",
    "        wave_list.append(num_list[list_len-1-i])\n",
    "    if list_len % 2 != 0:\n",
    "        wave_list.append(num_list[int(list_len/2)])\n",
    "    return wave_list\n",
    "\n",
    "w_list = sine_wave_generator( [10, 15, 2, 6, 90, 34, 19] )\n",
    "print('W List: ', w_list)"
   ]
  },
  {
   "cell_type": "code",
   "execution_count": null,
   "metadata": {},
   "outputs": [],
   "source": []
  },
  {
   "cell_type": "code",
   "execution_count": null,
   "metadata": {},
   "outputs": [],
   "source": []
  },
  {
   "cell_type": "code",
   "execution_count": null,
   "metadata": {},
   "outputs": [],
   "source": []
  }
 ],
 "metadata": {
  "kernelspec": {
   "display_name": "Python 3",
   "language": "python",
   "name": "python3"
  },
  "language_info": {
   "codemirror_mode": {
    "name": "ipython",
    "version": 3
   },
   "file_extension": ".py",
   "mimetype": "text/x-python",
   "name": "python",
   "nbconvert_exporter": "python",
   "pygments_lexer": "ipython3",
   "version": "3.8.5"
  }
 },
 "nbformat": 4,
 "nbformat_minor": 4
}
